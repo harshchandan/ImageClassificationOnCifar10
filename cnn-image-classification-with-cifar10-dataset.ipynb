{
 "cells": [
  {
   "cell_type": "code",
   "execution_count": 1,
   "id": "69113c13",
   "metadata": {
    "_cell_guid": "b1076dfc-b9ad-4769-8c92-a6c4dae69d19",
    "_uuid": "8f2839f25d086af736a60e9eeb907d3b93b6e0e5",
    "execution": {
     "iopub.execute_input": "2021-12-11T18:00:50.238620Z",
     "iopub.status.busy": "2021-12-11T18:00:50.237144Z",
     "iopub.status.idle": "2021-12-11T18:00:56.418453Z",
     "shell.execute_reply": "2021-12-11T18:00:56.417438Z",
     "shell.execute_reply.started": "2021-12-11T16:22:52.021612Z"
    },
    "papermill": {
     "duration": 6.201914,
     "end_time": "2021-12-11T18:00:56.418626",
     "exception": false,
     "start_time": "2021-12-11T18:00:50.216712",
     "status": "completed"
    },
    "tags": []
   },
   "outputs": [],
   "source": [
    "import tensorflow as tf\n",
    "from tensorflow.keras import datasets, layers, models\n",
    "import numpy as np\n",
    "import matplotlib.pyplot as plt\n",
    "import seaborn as sns\n",
    "from sklearn.metrics import confusion_matrix, classification_report"
   ]
  },
  {
   "cell_type": "code",
   "execution_count": 2,
   "id": "3f422b39",
   "metadata": {
    "execution": {
     "iopub.execute_input": "2021-12-11T18:00:56.458747Z",
     "iopub.status.busy": "2021-12-11T18:00:56.457819Z",
     "iopub.status.idle": "2021-12-11T18:01:04.971490Z",
     "shell.execute_reply": "2021-12-11T18:01:04.970623Z",
     "shell.execute_reply.started": "2021-12-11T16:22:52.029474Z"
    },
    "papermill": {
     "duration": 8.534612,
     "end_time": "2021-12-11T18:01:04.971627",
     "exception": false,
     "start_time": "2021-12-11T18:00:56.437015",
     "status": "completed"
    },
    "tags": []
   },
   "outputs": [
    {
     "name": "stdout",
     "output_type": "stream",
     "text": [
      "Downloading data from https://www.cs.toronto.edu/~kriz/cifar-10-python.tar.gz\n",
      "170500096/170498071 [==============================] - 6s 0us/step\n",
      "170508288/170498071 [==============================] - 6s 0us/step\n"
     ]
    }
   ],
   "source": [
    "(X_train, y_train),(X_test, y_test) = datasets.cifar10.load_data()"
   ]
  },
  {
   "cell_type": "code",
   "execution_count": 3,
   "id": "211cb2e5",
   "metadata": {
    "execution": {
     "iopub.execute_input": "2021-12-11T18:01:05.066117Z",
     "iopub.status.busy": "2021-12-11T18:01:05.065462Z",
     "iopub.status.idle": "2021-12-11T18:01:05.068497Z",
     "shell.execute_reply": "2021-12-11T18:01:05.068890Z",
     "shell.execute_reply.started": "2021-12-11T16:22:52.791036Z"
    },
    "papermill": {
     "duration": 0.053205,
     "end_time": "2021-12-11T18:01:05.069032",
     "exception": false,
     "start_time": "2021-12-11T18:01:05.015827",
     "status": "completed"
    },
    "tags": []
   },
   "outputs": [
    {
     "data": {
      "text/plain": [
       "(50000, 32, 32, 3)"
      ]
     },
     "execution_count": 3,
     "metadata": {},
     "output_type": "execute_result"
    }
   ],
   "source": [
    "X_train.shape"
   ]
  },
  {
   "cell_type": "code",
   "execution_count": 4,
   "id": "6aa52bd5",
   "metadata": {
    "execution": {
     "iopub.execute_input": "2021-12-11T18:01:05.161343Z",
     "iopub.status.busy": "2021-12-11T18:01:05.160164Z",
     "iopub.status.idle": "2021-12-11T18:01:05.163627Z",
     "shell.execute_reply": "2021-12-11T18:01:05.163198Z",
     "shell.execute_reply.started": "2021-12-11T16:22:52.799411Z"
    },
    "papermill": {
     "duration": 0.052056,
     "end_time": "2021-12-11T18:01:05.163742",
     "exception": false,
     "start_time": "2021-12-11T18:01:05.111686",
     "status": "completed"
    },
    "tags": []
   },
   "outputs": [
    {
     "data": {
      "text/plain": [
       "(50000, 1)"
      ]
     },
     "execution_count": 4,
     "metadata": {},
     "output_type": "execute_result"
    }
   ],
   "source": [
    "y_train.shape"
   ]
  },
  {
   "cell_type": "code",
   "execution_count": 5,
   "id": "53bd11a8",
   "metadata": {
    "execution": {
     "iopub.execute_input": "2021-12-11T18:01:05.260438Z",
     "iopub.status.busy": "2021-12-11T18:01:05.254564Z",
     "iopub.status.idle": "2021-12-11T18:01:05.263706Z",
     "shell.execute_reply": "2021-12-11T18:01:05.263269Z",
     "shell.execute_reply.started": "2021-12-11T16:22:52.812531Z"
    },
    "papermill": {
     "duration": 0.055026,
     "end_time": "2021-12-11T18:01:05.263816",
     "exception": false,
     "start_time": "2021-12-11T18:01:05.208790",
     "status": "completed"
    },
    "tags": []
   },
   "outputs": [
    {
     "data": {
      "text/plain": [
       "array([[6],\n",
       "       [9],\n",
       "       [9]], dtype=uint8)"
      ]
     },
     "execution_count": 5,
     "metadata": {},
     "output_type": "execute_result"
    }
   ],
   "source": [
    "y_train[:3]"
   ]
  },
  {
   "cell_type": "code",
   "execution_count": 6,
   "id": "212ffd88",
   "metadata": {
    "execution": {
     "iopub.execute_input": "2021-12-11T18:01:05.357028Z",
     "iopub.status.busy": "2021-12-11T18:01:05.356362Z",
     "iopub.status.idle": "2021-12-11T18:01:05.358508Z",
     "shell.execute_reply": "2021-12-11T18:01:05.358943Z",
     "shell.execute_reply.started": "2021-12-11T16:22:52.821681Z"
    },
    "papermill": {
     "duration": 0.050233,
     "end_time": "2021-12-11T18:01:05.359100",
     "exception": false,
     "start_time": "2021-12-11T18:01:05.308867",
     "status": "completed"
    },
    "tags": []
   },
   "outputs": [],
   "source": [
    "y_train = y_train.reshape(-1,)"
   ]
  },
  {
   "cell_type": "code",
   "execution_count": 7,
   "id": "53f836ec",
   "metadata": {
    "execution": {
     "iopub.execute_input": "2021-12-11T18:01:05.459429Z",
     "iopub.status.busy": "2021-12-11T18:01:05.458504Z",
     "iopub.status.idle": "2021-12-11T18:01:05.638110Z",
     "shell.execute_reply": "2021-12-11T18:01:05.638674Z",
     "shell.execute_reply.started": "2021-12-11T16:22:52.829543Z"
    },
    "papermill": {
     "duration": 0.236213,
     "end_time": "2021-12-11T18:01:05.638862",
     "exception": false,
     "start_time": "2021-12-11T18:01:05.402649",
     "status": "completed"
    },
    "tags": []
   },
   "outputs": [
    {
     "data": {
      "text/plain": [
       "<matplotlib.image.AxesImage at 0x7f0e829f2b10>"
      ]
     },
     "execution_count": 7,
     "metadata": {},
     "output_type": "execute_result"
    },
    {
     "data": {
      "image/png": "[encoded data removed]",
      "text/plain": [
       "<Figure size 360x144 with 1 Axes>"
      ]
     },
     "metadata": {
      "needs_background": "light"
     },
     "output_type": "display_data"
    }
   ],
   "source": [
    "plt.figure(figsize=(5,2))\n",
    "plt.imshow(X_train[3])"
   ]
  },
  {
   "cell_type": "code",
   "execution_count": 8,
   "id": "ed1a5051",
   "metadata": {
    "execution": {
     "iopub.execute_input": "2021-12-11T18:01:05.737817Z",
     "iopub.status.busy": "2021-12-11T18:01:05.737001Z",
     "iopub.status.idle": "2021-12-11T18:01:05.738740Z",
     "shell.execute_reply": "2021-12-11T18:01:05.739196Z",
     "shell.execute_reply.started": "2021-12-11T16:22:52.990260Z"
    },
    "papermill": {
     "duration": 0.052565,
     "end_time": "2021-12-11T18:01:05.739330",
     "exception": false,
     "start_time": "2021-12-11T18:01:05.686765",
     "status": "completed"
    },
    "tags": []
   },
   "outputs": [],
   "source": [
    "classes = ['airplane','automobile','bird','cat','deer','dog','frog','horse','ship','truck']\n",
    "def plot_sample(X,y,index):\n",
    "    plt.figure(figsize=(5,2))\n",
    "    plt.imshow(X[index])\n",
    "    plt.xlabel(classes[y[index]])"
   ]
  },
  {
   "cell_type": "code",
   "execution_count": 9,
   "id": "af223ad2",
   "metadata": {
    "execution": {
     "iopub.execute_input": "2021-12-11T18:01:05.836787Z",
     "iopub.status.busy": "2021-12-11T18:01:05.835942Z",
     "iopub.status.idle": "2021-12-11T18:01:05.970522Z",
     "shell.execute_reply": "2021-12-11T18:01:05.971590Z",
     "shell.execute_reply.started": "2021-12-11T16:22:53.000457Z"
    },
    "papermill": {
     "duration": 0.188433,
     "end_time": "2021-12-11T18:01:05.971826",
     "exception": false,
     "start_time": "2021-12-11T18:01:05.783393",
     "status": "completed"
    },
    "tags": []
   },
   "outputs": [
    {
     "data": {
      "image/png": "[encoded data removed]",
      "text/plain": [
       "<Figure size 360x144 with 1 Axes>"
      ]
     },
     "metadata": {
      "needs_background": "light"
     },
     "output_type": "display_data"
    }
   ],
   "source": [
    "plot_sample(X_train,y_train,87)"
   ]
  },
  {
   "cell_type": "code",
   "execution_count": 10,
   "id": "f0c6cf36",
   "metadata": {
    "execution": {
     "iopub.execute_input": "2021-12-11T18:01:06.074017Z",
     "iopub.status.busy": "2021-12-11T18:01:06.072833Z",
     "iopub.status.idle": "2021-12-11T18:01:06.526534Z",
     "shell.execute_reply": "2021-12-11T18:01:06.525620Z",
     "shell.execute_reply.started": "2021-12-11T16:22:53.144736Z"
    },
    "papermill": {
     "duration": 0.503163,
     "end_time": "2021-12-11T18:01:06.526677",
     "exception": false,
     "start_time": "2021-12-11T18:01:06.023514",
     "status": "completed"
    },
    "tags": []
   },
   "outputs": [],
   "source": [
    "X_train = X_train/255\n",
    "X_test = X_test/255"
   ]
  },
  {
   "cell_type": "code",
   "execution_count": 11,
   "id": "a39ff995",
   "metadata": {
    "execution": {
     "iopub.execute_input": "2021-12-11T18:01:06.623576Z",
     "iopub.status.busy": "2021-12-11T18:01:06.623051Z",
     "iopub.status.idle": "2021-12-11T18:01:09.279839Z",
     "shell.execute_reply": "2021-12-11T18:01:09.280495Z",
     "shell.execute_reply.started": "2021-12-11T16:22:53.623239Z"
    },
    "papermill": {
     "duration": 2.708554,
     "end_time": "2021-12-11T18:01:09.280722",
     "exception": false,
     "start_time": "2021-12-11T18:01:06.572168",
     "status": "completed"
    },
    "tags": []
   },
   "outputs": [
    {
     "name": "stderr",
     "output_type": "stream",
     "text": [
      "2021-12-11 18:01:06.711137: I tensorflow/stream_executor/cuda/cuda_gpu_executor.cc:937] successful NUMA node read from SysFS had negative value (-1), but there must be at least one NUMA node, so returning NUMA node zero\n",
      "2021-12-11 18:01:06.810676: I tensorflow/stream_executor/cuda/cuda_gpu_executor.cc:937] successful NUMA node read from SysFS had negative value (-1), but there must be at least one NUMA node, so returning NUMA node zero\n",
      "2021-12-11 18:01:06.811453: I tensorflow/stream_executor/cuda/cuda_gpu_executor.cc:937] successful NUMA node read from SysFS had negative value (-1), but there must be at least one NUMA node, so returning NUMA node zero\n",
      "2021-12-11 18:01:06.812618: I tensorflow/core/platform/cpu_feature_guard.cc:142] This TensorFlow binary is optimized with oneAPI Deep Neural Network Library (oneDNN) to use the following CPU instructions in performance-critical operations:  AVX2 AVX512F FMA\n",
      "To enable them in other operations, rebuild TensorFlow with the appropriate compiler flags.\n",
      "2021-12-11 18:01:06.813699: I tensorflow/stream_executor/cuda/cuda_gpu_executor.cc:937] successful NUMA node read from SysFS had negative value (-1), but there must be at least one NUMA node, so returning NUMA node zero\n",
      "2021-12-11 18:01:06.814378: I tensorflow/stream_executor/cuda/cuda_gpu_executor.cc:937] successful NUMA node read from SysFS had negative value (-1), but there must be at least one NUMA node, so returning NUMA node zero\n",
      "2021-12-11 18:01:06.815004: I tensorflow/stream_executor/cuda/cuda_gpu_executor.cc:937] successful NUMA node read from SysFS had negative value (-1), but there must be at least one NUMA node, so returning NUMA node zero\n",
      "2021-12-11 18:01:08.803726: I tensorflow/stream_executor/cuda/cuda_gpu_executor.cc:937] successful NUMA node read from SysFS had negative value (-1), but there must be at least one NUMA node, so returning NUMA node zero\n",
      "2021-12-11 18:01:08.804580: I tensorflow/stream_executor/cuda/cuda_gpu_executor.cc:937] successful NUMA node read from SysFS had negative value (-1), but there must be at least one NUMA node, so returning NUMA node zero\n",
      "2021-12-11 18:01:08.805247: I tensorflow/stream_executor/cuda/cuda_gpu_executor.cc:937] successful NUMA node read from SysFS had negative value (-1), but there must be at least one NUMA node, so returning NUMA node zero\n",
      "2021-12-11 18:01:08.805805: I tensorflow/core/common_runtime/gpu/gpu_device.cc:1510] Created device /job:localhost/replica:0/task:0/device:GPU:0 with 15403 MB memory:  -> device: 0, name: Tesla P100-PCIE-16GB, pci bus id: 0000:00:04.0, compute capability: 6.0\n"
     ]
    }
   ],
   "source": [
    "cnn = models.Sequential([\n",
    "    layers.Conv2D(filters=32, kernel_size=(3,3), activation='relu', input_shape=(32,32,3)),\n",
    "    layers.MaxPooling2D((2,2)),\n",
    "    \n",
    "    layers.Conv2D(filters=64, kernel_size=(3,3), activation='relu'),\n",
    "    layers.MaxPooling2D((2,2)),\n",
    "    \n",
    "    layers.Flatten(),\n",
    "    layers.Dense(64,activation='relu'),\n",
    "    layers.Dense(10,activation='softmax')\n",
    "    \n",
    "])"
   ]
  },
  {
   "cell_type": "code",
   "execution_count": 12,
   "id": "9ba43cbb",
   "metadata": {
    "execution": {
     "iopub.execute_input": "2021-12-11T18:01:09.383636Z",
     "iopub.status.busy": "2021-12-11T18:01:09.382877Z",
     "iopub.status.idle": "2021-12-11T18:01:09.392297Z",
     "shell.execute_reply": "2021-12-11T18:01:09.391807Z",
     "shell.execute_reply.started": "2021-12-11T16:22:53.670253Z"
    },
    "papermill": {
     "duration": 0.059106,
     "end_time": "2021-12-11T18:01:09.392409",
     "exception": false,
     "start_time": "2021-12-11T18:01:09.333303",
     "status": "completed"
    },
    "tags": []
   },
   "outputs": [],
   "source": [
    "cnn.compile(optimizer='adam',\n",
    "             loss='sparse_categorical_crossentropy',\n",
    "             metrics=['accuracy'])"
   ]
  },
  {
   "cell_type": "code",
   "execution_count": 13,
   "id": "50292ab8",
   "metadata": {
    "execution": {
     "iopub.execute_input": "2021-12-11T18:01:09.487366Z",
     "iopub.status.busy": "2021-12-11T18:01:09.486494Z",
     "iopub.status.idle": "2021-12-11T18:03:33.956212Z",
     "shell.execute_reply": "2021-12-11T18:03:33.956658Z",
     "shell.execute_reply.started": "2021-12-11T16:22:53.680365Z"
    },
    "papermill": {
     "duration": 144.519078,
     "end_time": "2021-12-11T18:03:33.956833",
     "exception": false,
     "start_time": "2021-12-11T18:01:09.437755",
     "status": "completed"
    },
    "tags": []
   },
   "outputs": [
    {
     "name": "stderr",
     "output_type": "stream",
     "text": [
      "2021-12-11 18:01:11.077497: I tensorflow/compiler/mlir/mlir_graph_optimization_pass.cc:185] None of the MLIR Optimization Passes are enabled (registered 2)\n"
     ]
    },
    {
     "name": "stdout",
     "output_type": "stream",
     "text": [
      "Epoch 1/20\n"
     ]
    },
    {
     "name": "stderr",
     "output_type": "stream",
     "text": [
      "2021-12-11 18:01:12.295664: I tensorflow/stream_executor/cuda/cuda_dnn.cc:369] Loaded cuDNN version 8005\n"
     ]
    },
    {
     "name": "stdout",
     "output_type": "stream",
     "text": [
      "1563/1563 [==============================] - 11s 3ms/step - loss: 1.4635 - accuracy: 0.4747\n",
      "Epoch 2/20\n",
      "1563/1563 [==============================] - 5s 3ms/step - loss: 1.1190 - accuracy: 0.6083\n",
      "Epoch 3/20\n",
      "1563/1563 [==============================] - 5s 3ms/step - loss: 0.9894 - accuracy: 0.6547\n",
      "Epoch 4/20\n",
      "1563/1563 [==============================] - 5s 3ms/step - loss: 0.9070 - accuracy: 0.6872\n",
      "Epoch 5/20\n",
      "1563/1563 [==============================] - 5s 3ms/step - loss: 0.8402 - accuracy: 0.7098\n",
      "Epoch 6/20\n",
      "1563/1563 [==============================] - 5s 3ms/step - loss: 0.7912 - accuracy: 0.7261\n",
      "Epoch 7/20\n",
      "1563/1563 [==============================] - 5s 3ms/step - loss: 0.7386 - accuracy: 0.7467\n",
      "Epoch 8/20\n",
      "1563/1563 [==============================] - 5s 3ms/step - loss: 0.7000 - accuracy: 0.7570\n",
      "Epoch 9/20\n",
      "1563/1563 [==============================] - 5s 3ms/step - loss: 0.6617 - accuracy: 0.7729\n",
      "Epoch 10/20\n",
      "1563/1563 [==============================] - 5s 3ms/step - loss: 0.6246 - accuracy: 0.7846\n",
      "Epoch 11/20\n",
      "1563/1563 [==============================] - 5s 3ms/step - loss: 0.5921 - accuracy: 0.7939\n",
      "Epoch 12/20\n",
      "1563/1563 [==============================] - 5s 3ms/step - loss: 0.5607 - accuracy: 0.8051\n",
      "Epoch 13/20\n",
      "1563/1563 [==============================] - 5s 3ms/step - loss: 0.5333 - accuracy: 0.8147\n",
      "Epoch 14/20\n",
      "1563/1563 [==============================] - 5s 3ms/step - loss: 0.4999 - accuracy: 0.8262\n",
      "Epoch 15/20\n",
      "1563/1563 [==============================] - 5s 3ms/step - loss: 0.4738 - accuracy: 0.8357\n",
      "Epoch 16/20\n",
      "1563/1563 [==============================] - 5s 3ms/step - loss: 0.4460 - accuracy: 0.8447\n",
      "Epoch 17/20\n",
      "1563/1563 [==============================] - 5s 3ms/step - loss: 0.4206 - accuracy: 0.8527\n",
      "Epoch 18/20\n",
      "1563/1563 [==============================] - 5s 3ms/step - loss: 0.3975 - accuracy: 0.8601\n",
      "Epoch 19/20\n",
      "1563/1563 [==============================] - 5s 3ms/step - loss: 0.3776 - accuracy: 0.8683\n",
      "Epoch 20/20\n",
      "1563/1563 [==============================] - 5s 3ms/step - loss: 0.3535 - accuracy: 0.8758\n"
     ]
    },
    {
     "data": {
      "text/plain": [
       "<keras.callbacks.History at 0x7f0e8bb41c90>"
      ]
     },
     "execution_count": 13,
     "metadata": {},
     "output_type": "execute_result"
    }
   ],
   "source": [
    "cnn.fit(X_train,y_train,epochs=20)"
   ]
  },
  {
   "cell_type": "code",
   "execution_count": 14,
   "id": "a02d5a99",
   "metadata": {
    "execution": {
     "iopub.execute_input": "2021-12-11T18:03:35.037167Z",
     "iopub.status.busy": "2021-12-11T18:03:35.036275Z",
     "iopub.status.idle": "2021-12-11T18:03:36.745322Z",
     "shell.execute_reply": "2021-12-11T18:03:36.746391Z",
     "shell.execute_reply.started": "2021-12-11T16:24:33.827799Z"
    },
    "papermill": {
     "duration": 2.254438,
     "end_time": "2021-12-11T18:03:36.746599",
     "exception": false,
     "start_time": "2021-12-11T18:03:34.492161",
     "status": "completed"
    },
    "tags": []
   },
   "outputs": [
    {
     "name": "stdout",
     "output_type": "stream",
     "text": [
      "313/313 [==============================] - 1s 2ms/step - loss: 1.2434 - accuracy: 0.6731\n"
     ]
    },
    {
     "data": {
      "text/plain": [
       "[1.2433544397354126, 0.6730999946594238]"
      ]
     },
     "execution_count": 14,
     "metadata": {},
     "output_type": "execute_result"
    }
   ],
   "source": [
    "cnn.evaluate(X_test, y_test)"
   ]
  },
  {
   "cell_type": "code",
   "execution_count": 15,
   "id": "9ec90835",
   "metadata": {
    "execution": {
     "iopub.execute_input": "2021-12-11T18:03:38.131272Z",
     "iopub.status.busy": "2021-12-11T18:03:38.130273Z",
     "iopub.status.idle": "2021-12-11T18:03:38.132806Z",
     "shell.execute_reply": "2021-12-11T18:03:38.132245Z",
     "shell.execute_reply.started": "2021-12-11T16:24:34.965519Z"
    },
    "papermill": {
     "duration": 0.717931,
     "end_time": "2021-12-11T18:03:38.132928",
     "exception": false,
     "start_time": "2021-12-11T18:03:37.414997",
     "status": "completed"
    },
    "tags": []
   },
   "outputs": [],
   "source": [
    "y_test = y_test.reshape(-1,)"
   ]
  },
  {
   "cell_type": "code",
   "execution_count": 16,
   "id": "d835bfe4",
   "metadata": {
    "execution": {
     "iopub.execute_input": "2021-12-11T18:03:39.238727Z",
     "iopub.status.busy": "2021-12-11T18:03:39.231356Z",
     "iopub.status.idle": "2021-12-11T18:03:39.369510Z",
     "shell.execute_reply": "2021-12-11T18:03:39.370674Z",
     "shell.execute_reply.started": "2021-12-11T16:24:34.972623Z"
    },
    "papermill": {
     "duration": 0.696691,
     "end_time": "2021-12-11T18:03:39.370997",
     "exception": false,
     "start_time": "2021-12-11T18:03:38.674306",
     "status": "completed"
    },
    "tags": []
   },
   "outputs": [
    {
     "data": {
      "image/png": "[encoded data removed]",
      "text/plain": [
       "<Figure size 360x144 with 1 Axes>"
      ]
     },
     "metadata": {
      "needs_background": "light"
     },
     "output_type": "display_data"
    }
   ],
   "source": [
    "plot_sample(X_test,y_test,191)"
   ]
  },
  {
   "cell_type": "code",
   "execution_count": 17,
   "id": "c9497164",
   "metadata": {
    "execution": {
     "iopub.execute_input": "2021-12-11T18:03:40.497716Z",
     "iopub.status.busy": "2021-12-11T18:03:40.496866Z",
     "iopub.status.idle": "2021-12-11T18:03:41.506816Z",
     "shell.execute_reply": "2021-12-11T18:03:41.507289Z",
     "shell.execute_reply.started": "2021-12-11T16:24:35.138904Z"
    },
    "papermill": {
     "duration": 1.58168,
     "end_time": "2021-12-11T18:03:41.507442",
     "exception": false,
     "start_time": "2021-12-11T18:03:39.925762",
     "status": "completed"
    },
    "tags": []
   },
   "outputs": [],
   "source": [
    "y_pred = cnn.predict(X_test)"
   ]
  },
  {
   "cell_type": "code",
   "execution_count": 18,
   "id": "e7e2ee28",
   "metadata": {
    "execution": {
     "iopub.execute_input": "2021-12-11T18:03:42.587232Z",
     "iopub.status.busy": "2021-12-11T18:03:42.586057Z",
     "iopub.status.idle": "2021-12-11T18:03:42.589680Z",
     "shell.execute_reply": "2021-12-11T18:03:42.589272Z",
     "shell.execute_reply.started": "2021-12-11T16:24:35.897816Z"
    },
    "papermill": {
     "duration": 0.544486,
     "end_time": "2021-12-11T18:03:42.589799",
     "exception": false,
     "start_time": "2021-12-11T18:03:42.045313",
     "status": "completed"
    },
    "tags": []
   },
   "outputs": [
    {
     "data": {
      "text/plain": [
       "array([3, 8, 8, 0, 6], dtype=uint8)"
      ]
     },
     "execution_count": 18,
     "metadata": {},
     "output_type": "execute_result"
    }
   ],
   "source": [
    "y_test[:5]"
   ]
  },
  {
   "cell_type": "code",
   "execution_count": 19,
   "id": "15308b85",
   "metadata": {
    "execution": {
     "iopub.execute_input": "2021-12-11T18:03:43.743172Z",
     "iopub.status.busy": "2021-12-11T18:03:43.738820Z",
     "iopub.status.idle": "2021-12-11T18:03:43.770935Z",
     "shell.execute_reply": "2021-12-11T18:03:43.770537Z",
     "shell.execute_reply.started": "2021-12-11T16:24:35.907805Z"
    },
    "papermill": {
     "duration": 0.585335,
     "end_time": "2021-12-11T18:03:43.771081",
     "exception": false,
     "start_time": "2021-12-11T18:03:43.185746",
     "status": "completed"
    },
    "tags": []
   },
   "outputs": [
    {
     "data": {
      "text/plain": [
       "[3, 8, 0, 0, 6]"
      ]
     },
     "execution_count": 19,
     "metadata": {},
     "output_type": "execute_result"
    }
   ],
   "source": [
    "y_classes = [np.argmax(ele) for ele in y_pred]\n",
    "y_classes[:5]"
   ]
  },
  {
   "cell_type": "code",
   "execution_count": 20,
   "id": "5ae53148",
   "metadata": {
    "execution": {
     "iopub.execute_input": "2021-12-11T18:03:44.869025Z",
     "iopub.status.busy": "2021-12-11T18:03:44.868240Z",
     "iopub.status.idle": "2021-12-11T18:03:44.898302Z",
     "shell.execute_reply": "2021-12-11T18:03:44.899001Z",
     "shell.execute_reply.started": "2021-12-11T16:24:35.945114Z"
    },
    "papermill": {
     "duration": 0.592174,
     "end_time": "2021-12-11T18:03:44.899233",
     "exception": false,
     "start_time": "2021-12-11T18:03:44.307059",
     "status": "completed"
    },
    "tags": []
   },
   "outputs": [
    {
     "name": "stdout",
     "output_type": "stream",
     "text": [
      "              precision    recall  f1-score   support\n",
      "\n",
      "           0       0.70      0.73      0.72      1000\n",
      "           1       0.79      0.80      0.80      1000\n",
      "           2       0.63      0.51      0.56      1000\n",
      "           3       0.50      0.48      0.49      1000\n",
      "           4       0.57      0.65      0.61      1000\n",
      "           5       0.56      0.61      0.58      1000\n",
      "           6       0.79      0.69      0.74      1000\n",
      "           7       0.67      0.73      0.70      1000\n",
      "           8       0.78      0.78      0.78      1000\n",
      "           9       0.77      0.74      0.76      1000\n",
      "\n",
      "    accuracy                           0.67     10000\n",
      "   macro avg       0.68      0.67      0.67     10000\n",
      "weighted avg       0.68      0.67      0.67     10000\n",
      "\n"
     ]
    }
   ],
   "source": [
    "print(classification_report(y_test,y_classes))"
   ]
  },
  {
   "cell_type": "code",
   "execution_count": 21,
   "id": "f8d63168",
   "metadata": {
    "execution": {
     "iopub.execute_input": "2021-12-11T18:03:45.994609Z",
     "iopub.status.busy": "2021-12-11T18:03:45.993788Z",
     "iopub.status.idle": "2021-12-11T18:03:46.721945Z",
     "shell.execute_reply": "2021-12-11T18:03:46.722379Z",
     "shell.execute_reply.started": "2021-12-11T16:24:35.978709Z"
    },
    "papermill": {
     "duration": 1.286825,
     "end_time": "2021-12-11T18:03:46.722526",
     "exception": false,
     "start_time": "2021-12-11T18:03:45.435701",
     "status": "completed"
    },
    "tags": []
   },
   "outputs": [
    {
     "data": {
      "text/plain": [
       "Text(69.0, 0.5, 'Truth')"
      ]
     },
     "execution_count": 21,
     "metadata": {},
     "output_type": "execute_result"
    },
    {
     "data": {
      "image/png": "[encoded data removed]",
      "text/plain": [
       "<Figure size 720x864 with 2 Axes>"
      ]
     },
     "metadata": {
      "needs_background": "light"
     },
     "output_type": "display_data"
    }
   ],
   "source": [
    "cm = confusion_matrix(y_test,y_classes)\n",
    "plt.figure(figsize=(10,12))\n",
    "sns.heatmap(cm,annot=True,fmt='d')\n",
    "plt.xlabel('Prediction')\n",
    "plt.ylabel('Truth')"
   ]
  },
  {
   "cell_type": "code",
   "execution_count": null,
   "id": "8c559a7e",
   "metadata": {
    "papermill": {
     "duration": 0.553926,
     "end_time": "2021-12-11T18:03:47.825832",
     "exception": false,
     "start_time": "2021-12-11T18:03:47.271906",
     "status": "completed"
    },
    "tags": []
   },
   "outputs": [],
   "source": []
  }
 ],
 "metadata": {
  "kernelspec": {
   "display_name": "Python 3",
   "language": "python",
   "name": "python3"
  },
  "language_info": {
   "codemirror_mode": {
    "name": "ipython",
    "version": 3
   },
   "file_extension": ".py",
   "mimetype": "text/x-python",
   "name": "python",
   "nbconvert_exporter": "python",
   "pygments_lexer": "ipython3",
   "version": "3.7.12"
  },
  "papermill": {
   "default_parameters": {},
   "duration": 189.598215,
   "end_time": "2021-12-11T18:03:51.512739",
   "environment_variables": {},
   "exception": null,
   "input_path": "__notebook__.ipynb",
   "output_path": "__notebook__.ipynb",
   "parameters": {},
   "start_time": "2021-12-11T18:00:41.914524",
   "version": "2.3.3"
  }
 },
 "nbformat": 4,
 "nbformat_minor": 5
}
